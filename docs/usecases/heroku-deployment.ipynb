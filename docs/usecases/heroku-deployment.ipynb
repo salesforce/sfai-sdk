{
 "cells": [
  {
   "cell_type": "markdown",
   "metadata": {},
   "source": [
    "# Heroku Deployment with SFAI SDK\n",
    "\n",
    "This notebook demonstrates how to deploy applications to Heroku using the SFAI SDK. Heroku deployment is perfect for production applications that need to integrate with the Salesforce ecosystem.\n",
    "\n",
    "## Overview\n",
    "\n",
    "Heroku deployment allows you to deploy your application to Salesforce's preferred cloud platform. The platform automatically:\n",
    "- Creates and manages Heroku apps with team and private space support\n",
    "- Supports both container and buildpack deployment types\n",
    "- Provides enterprise features like private spaces and internal routing\n",
    "- Integrates seamlessly with Salesforce ecosystem\n",
    "\n",
    "## Prerequisites\n",
    "\n",
    "- Heroku CLI installed and configured\n",
    "- SFAI SDK installed (`pip install sfai`)\n",
    "- Git repository initialized in your application directory\n",
    "- Valid Heroku account with appropriate team access\n",
    "- For container deployment: Dockerfile in your application directory\n",
    "- For buildpack deployment: requirements.txt or appropriate buildpack files"
   ]
  },
  {
   "cell_type": "markdown",
   "metadata": {},
   "source": [
    "## Method 1: CLI Workflow\n",
    "\n",
    "### Step 1: Initialize Your App\n",
    "First, initialize your application context. This sets up the basic app configuration."
   ]
  },
  {
   "cell_type": "code",
   "execution_count": null,
   "metadata": {},
   "outputs": [],
   "source": [
    "# Initialize the app (this creates the basic app context)\n",
    "!sfai app init"
   ]
  },
  {
   "cell_type": "markdown",
   "metadata": {},
   "source": [
    "### Step 2: Initialize Heroku Platform\n",
    "Configure the Heroku platform with your team, private space, and deployment preferences."
   ]
  },
  {
   "cell_type": "code",
   "execution_count": null,
   "metadata": {},
   "outputs": [],
   "source": [
    "# Initialize Heroku platform with container deployment\n",
    "!sfai platform init --cloud heroku --deployment-type container --team-name your-team-name --private-space your-private-space"
   ]
  },
  {
   "cell_type": "markdown",
   "metadata": {},
   "source": [
    "### Step 3: Deploy to Heroku\n",
    "Deploy your application to the configured Heroku environment."
   ]
  },
  {
   "cell_type": "code",
   "execution_count": null,
   "metadata": {},
   "outputs": [],
   "source": [
    "# Deploy the application to Heroku\n",
    "!sfai app deploy"
   ]
  },
  {
   "cell_type": "markdown",
   "metadata": {},
   "source": [
    "### Step 4: Open Application in Browser\n",
    "Access your deployed application."
   ]
  },
  {
   "cell_type": "code",
   "execution_count": null,
   "metadata": {},
   "outputs": [],
   "source": [
    "# Open the application in your browser\n",
    "!sfai app open"
   ]
  },
  {
   "cell_type": "markdown",
   "metadata": {},
   "source": [
    "### Step 5: View Application Logs\n",
    "Monitor your application's logs for debugging and monitoring."
   ]
  },
  {
   "cell_type": "code",
   "execution_count": null,
   "metadata": {},
   "outputs": [],
   "source": [
    "# View application logs\n",
    "!sfai app logs"
   ]
  },
  {
   "cell_type": "markdown",
   "metadata": {},
   "source": [
    "### Step 6: Check Application Status\n",
    "Check the current status of your Heroku application."
   ]
  },
  {
   "cell_type": "code",
   "execution_count": null,
   "metadata": {},
   "outputs": [],
   "source": [
    "# Check application status\n",
    "!sfai app status"
   ]
  },
  {
   "cell_type": "markdown",
   "metadata": {},
   "source": [
    "### Step 7: Clean Up (Optional)\n",
    "Remove the application when you're done."
   ]
  },
  {
   "cell_type": "code",
   "execution_count": null,
   "metadata": {},
   "outputs": [],
   "source": [
    "# Delete the application (optional)\n",
    "!sfai app delete"
   ]
  },
  {
   "cell_type": "markdown",
   "metadata": {},
   "source": [
    "## Method 2: Python API Workflow\n",
    "\n",
    "You can also manage the entire deployment process using the Python API for more programmatic control."
   ]
  },
  {
   "cell_type": "markdown",
   "metadata": {},
   "source": [
    "### Step 1: Initialize Platform"
   ]
  },
  {
   "cell_type": "code",
   "execution_count": null,
   "metadata": {},
   "outputs": [],
   "source": [
    "from sfai.platform import init\n",
    "\n",
    "# Initialize Heroku platform with container deployment\n",
    "result = init(\n",
    "    cloud=\"heroku\",\n",
    "    deployment_type=\"container\",  # or \"buildpack\"\n",
    "    team_name=\"your-team-name\",\n",
    "    private_space=\"your-private-space\",\n",
    "    routing=\"public\"  # or \"internal\"\n",
    ")\n",
    "\n",
    "print(f\"Platform initialization: {result}\")"
   ]
  },
  {
   "cell_type": "markdown",
   "metadata": {},
   "source": [
    "### Step 2: Deploy Application"
   ]
  },
  {
   "cell_type": "code",
   "execution_count": null,
   "metadata": {},
   "outputs": [],
   "source": [
    "from sfai.app import deploy\n",
    "\n",
    "# Deploy the application\n",
    "result = deploy()\n",
    "print(f\"Deployment result: {result}\")"
   ]
  },
  {
   "cell_type": "markdown",
   "metadata": {},
   "source": [
    "### Step 3: Open Application"
   ]
  },
  {
   "cell_type": "code",
   "execution_count": null,
   "metadata": {},
   "outputs": [],
   "source": [
    "from sfai.app import open_app\n",
    "\n",
    "# Open the application\n",
    "result = open_app(path=\"/docs\")  # Opens the docs endpoint\n",
    "print(f\"App opened: {result}\")"
   ]
  },
  {
   "cell_type": "markdown",
   "metadata": {},
   "source": [
    "### Step 4: Check Status and Logs"
   ]
  },
  {
   "cell_type": "code",
   "execution_count": null,
   "metadata": {},
   "outputs": [],
   "source": [
    "from sfai.app import status, logs\n",
    "\n",
    "# Check application status\n",
    "status_result = status()\n",
    "print(f\"Status: {status_result}\")\n",
    "\n",
    "# View logs\n",
    "logs_result = logs()\n",
    "print(f\"Logs: {logs_result}\")"
   ]
  },
  {
   "cell_type": "markdown",
   "metadata": {},
   "source": [
    "### Step 5: Clean Up"
   ]
  },
  {
   "cell_type": "code",
   "execution_count": null,
   "metadata": {},
   "outputs": [],
   "source": [
    "from sfai.app import delete\n",
    "\n",
    "# Delete the application (optional)\n",
    "result = delete()\n",
    "print(f\"Deletion result: {result}\")"
   ]
  },
  {
   "cell_type": "markdown",
   "metadata": {},
   "source": [
    "## Complete Python Example\n",
    "\n",
    "Here's a complete function that demonstrates the entire Heroku deployment workflow:"
   ]
  },
  {
   "cell_type": "code",
   "execution_count": null,
   "metadata": {},
   "outputs": [],
   "source": [
    "def complete_heroku_deployment_workflow(\n",
    "    team_name=\"your-team-name\",\n",
    "    private_space=\"your-private-space\",\n",
    "    deployment_type=\"container\",\n",
    "    routing=\"public\"\n",
    "):\n",
    "    \"\"\"\n",
    "    Complete Heroku deployment workflow using SFAI SDK.\n",
    "    \n",
    "    Args:\n",
    "        team_name: Heroku team name\n",
    "        private_space: Heroku private space name\n",
    "        deployment_type: \"container\" or \"buildpack\"\n",
    "        routing: \"public\" or \"internal\"\n",
    "    \"\"\"\n",
    "    from sfai.platform import init\n",
    "    from sfai.app import deploy, open_app, status\n",
    "\n",
    "    try:\n",
    "        # Step 1: Initialize platform\n",
    "        print(\"🚀 Initializing Heroku platform...\")\n",
    "        init_result = init(\n",
    "            cloud=\"heroku\",\n",
    "            deployment_type=deployment_type,\n",
    "            team_name=team_name,\n",
    "            private_space=private_space,\n",
    "            routing=routing\n",
    "        )\n",
    "        print(f\"✅ Platform initialized: {init_result}\")\n",
    "\n",
    "        # Step 2: Deploy application\n",
    "        print(\"🚀 Deploying application...\")\n",
    "        deploy_result = deploy()\n",
    "        print(f\"✅ Application deployed: {deploy_result}\")\n",
    "\n",
    "        # Step 3: Check status\n",
    "        print(\"📊 Checking application status...\")\n",
    "        status_result = status()\n",
    "        print(f\"✅ Status checked: {status_result}\")\n",
    "\n",
    "        # Step 4: Open application\n",
    "        print(\"🌐 Opening application...\")\n",
    "        open_result = open_app(path=\"/docs\")\n",
    "        print(f\"✅ Application opened: {open_result}\")\n",
    "\n",
    "        print(\"\\n🎉 Heroku deployment completed successfully!\")\n",
    "\n",
    "        return {\n",
    "            \"init\": init_result,\n",
    "            \"deploy\": deploy_result,\n",
    "            \"status\": status_result,\n",
    "            \"open\": open_result\n",
    "        }\n",
    "\n",
    "    except Exception as e:\n",
    "        print(f\"❌ Error during deployment: {e}\")\n",
    "        return {\"error\": str(e)}\n",
    "\n",
    "# Example usage:\n",
    "# result = complete_heroku_deployment_workflow(\n",
    "#     team_name=\"det-ai-platform\",\n",
    "#     private_space=\"det-ai-platform-sandbox\",\n",
    "#     deployment_type=\"container\",\n",
    "#     routing=\"public\"\n",
    "# )"
   ]
  },
  {
   "cell_type": "markdown",
   "metadata": {},
   "source": [
    "## Deployment Types\n",
    "\n",
    "The SFAI SDK supports two Heroku deployment types:\n",
    "\n",
    "### 1. Container Deployment\n",
    "- Uses Docker containers\n",
    "- Requires a `Dockerfile` in your project root\n",
    "- More control over the runtime environment\n",
    "- Better for complex applications with specific dependencies\n",
    "\n",
    "### 2. Buildpack Deployment\n",
    "- Uses Heroku's buildpack system\n",
    "- Requires `requirements.txt` (for Python) or appropriate language files\n",
    "- Automatic dependency management\n",
    "- Simpler for standard applications"
   ]
  },
  {
   "cell_type": "markdown",
   "metadata": {},
   "source": [
    "## Common Commands Reference\n",
    "\n",
    "### CLI Commands\n",
    "```bash\n",
    "# Initialize app\n",
    "sfai app init\n",
    "\n",
    "# Initialize Heroku platform\n",
    "sfai platform init --cloud heroku --deployment-type container --team-name your-team --private-space your-space\n",
    "\n",
    "# Deploy to Heroku\n",
    "sfai app deploy\n",
    "\n",
    "# Open application\n",
    "sfai app open\n",
    "\n",
    "# Check status\n",
    "sfai app status\n",
    "\n",
    "# View logs\n",
    "sfai app logs\n",
    "\n",
    "# Delete application\n",
    "sfai app delete\n",
    "```\n",
    "\n",
    "### Python API\n",
    "```python\n",
    "from sfai.platform import init\n",
    "from sfai.app import deploy, open_app, status, logs, delete\n",
    "\n",
    "# Initialize platform\n",
    "init(cloud=\"heroku\", deployment_type=\"container\", team_name=\"your-team\")\n",
    "\n",
    "# Deploy\n",
    "deploy()\n",
    "\n",
    "# Open\n",
    "open_app(path=\"/docs\")\n",
    "\n",
    "# Status and logs\n",
    "status()\n",
    "logs()\n",
    "\n",
    "# Delete\n",
    "delete()\n",
    "```"
   ]
  },
  {
   "cell_type": "markdown",
   "metadata": {},
   "source": [
    "## Configuration Options\n",
    "\n",
    "### Platform Initialization Parameters\n",
    "\n",
    "- **`cloud`**: Always \"heroku\" for Heroku deployment\n",
    "- **`deployment_type`**: \"container\" or \"buildpack\"\n",
    "- **`team_name`**: Your Heroku team name (required for enterprise)\n",
    "- **`private_space`**: Heroku private space name (optional)\n",
    "- **`routing`**: \"public\" or \"internal\" (for private spaces)\n",
    "- **`app_name`**: Custom app name (optional, auto-generated if not provided)\n",
    "\n",
    "### Example Configurations\n",
    "\n",
    "#### Enterprise Setup with Private Space\n",
    "```python\n",
    "init(\n",
    "    cloud=\"heroku\",\n",
    "    deployment_type=\"container\",\n",
    "    team_name=\"det-ai-platform\",\n",
    "    private_space=\"det-ai-platform-sandbox\",\n",
    "    routing=\"internal\"\n",
    ")\n",
    "```\n",
    "\n",
    "#### Simple Public Deployment\n",
    "```python\n",
    "init(\n",
    "    cloud=\"heroku\",\n",
    "    deployment_type=\"buildpack\",\n",
    "    team_name=\"your-team\",\n",
    "    routing=\"public\"\n",
    ")\n",
    "```"
   ]
  },
  {
   "cell_type": "markdown",
   "metadata": {},
   "source": [
    "## Troubleshooting\n",
    "\n",
    "### Common Issues and Solutions\n",
    "\n",
    "#### 1. Heroku CLI Not Found\n",
    "**Error**: `Heroku CLI not installed`\n",
    "**Solution**: Install Heroku CLI:\n",
    "```bash\n",
    "# macOS\n",
    "brew install heroku/brew/heroku\n",
    "\n",
    "# Or download from https://devcenter.heroku.com/articles/heroku-cli\n",
    "```\n",
    "\n",
    "#### 2. Authentication Issues\n",
    "**Error**: `Heroku login failed`\n",
    "**Solution**: Login to Heroku:\n",
    "```bash\n",
    "heroku login\n",
    "```\n",
    "\n",
    "#### 3. App Name Already Taken\n",
    "**Error**: `name is already taken`\n",
    "**Solution**: The SDK automatically generates a unique suffix. If this persists, specify a custom app name:\n",
    "```python\n",
    "init(cloud=\"heroku\", app_name=\"my-unique-app-name\")\n",
    "```\n",
    "\n",
    "#### 4. Team Access Issues\n",
    "**Error**: `forbidden` or team access errors\n",
    "**Solution**: Ensure you have access to the specified team and private space:\n",
    "```bash\n",
    "heroku teams\n",
    "heroku spaces --team your-team-name\n",
    "```\n",
    "\n",
    "#### 5. Container Deployment Issues\n",
    "**Error**: Dockerfile not found or container build fails\n",
    "**Solution**: \n",
    "- Ensure `Dockerfile` exists in your project root\n",
    "- Test Docker build locally: `docker build -t test-app .`\n",
    "- Check Dockerfile syntax and dependencies\n",
    "\n",
    "#### 6. Git Repository Issues\n",
    "**Error**: `not a git repository` or `not a Heroku repository`\n",
    "**Solution**: \n",
    "- Initialize git: `git init`\n",
    "- For buildpack deployment, ensure Heroku remote is added\n",
    "- Check git remotes: `git remote -v`\n",
    "\n",
    "#### 7. Deployment Timeouts\n",
    "**Error**: Deployment takes too long or times out\n",
    "**Solution**: \n",
    "- Check application logs: `sfai app logs`\n",
    "- Optimize Docker build (use multi-stage builds, .dockerignore)\n",
    "- Ensure application starts within Heroku's timeout limits"
   ]
  },
  {
   "cell_type": "markdown",
   "metadata": {},
   "source": [
    "## Best Practices\n",
    "\n",
    "### 1. Environment Management\n",
    "- Use environment variables for configuration\n",
    "- Store secrets in Heroku config vars\n",
    "- Use different apps for different environments (dev, staging, prod)\n",
    "\n",
    "### 2. Container Optimization\n",
    "- Use multi-stage Docker builds\n",
    "- Include `.dockerignore` to reduce build context\n",
    "- Use appropriate base images (slim versions)\n",
    "\n",
    "### 3. Security\n",
    "- Use private spaces for sensitive applications\n",
    "- Configure internal routing for backend services\n",
    "- Regularly update dependencies\n",
    "\n",
    "### 4. Monitoring\n",
    "- Regularly check application logs\n",
    "- Monitor application performance\n",
    "- Set up alerts for critical issues\n",
    "\n",
    "### 5. Deployment\n",
    "- Test deployments in staging first\n",
    "- Use meaningful commit messages\n",
    "- Keep deployments small and frequent"
   ]
  },
  {
   "cell_type": "markdown",
   "metadata": {},
   "source": [
    "## Next Steps\n",
    "\n",
    "After successfully deploying to Heroku, you can:\n",
    "\n",
    "1. **Scale Your Application**: Use Heroku's scaling features to handle more traffic\n",
    "2. **Add Add-ons**: Integrate databases, monitoring, and other services\n",
    "3. **Set Up CI/CD**: Automate deployments with GitHub integration\n",
    "4. **Monitor Performance**: Use Heroku metrics and logging\n",
    "5. **Integrate with Salesforce**: Connect your app to Salesforce services\n",
    "6. **Publish to MuleSoft**: Use SFAI SDK to publish APIs to MuleSoft\n",
    "\n",
    "### Related Documentation\n",
    "- [SFAI SDK Documentation](https://git.soma.salesforce.com/pages/da-mle/forge-docs/sfai-sdk/)\n",
    "- [Heroku Documentation](https://devcenter.heroku.com/)\n",
    "- [Local Deployment Guide](./local-deployment.ipynb)\n",
    "\n",
    "### Support\n",
    "For issues or questions:\n",
    "- Check the troubleshooting section above\n",
    "- Review application logs: `sfai app logs`\n",
    "- Consult the SFAI SDK documentation\n",
    "- Contact your team's DevOps or platform team"
   ]
  }
 ],
 "metadata": {
  "kernelspec": {
   "display_name": "SFAI SDK (Python 3.11)",
   "language": "python",
   "name": "sfai-venv"
  },
  "language_info": {
   "codemirror_mode": {
    "name": "ipython",
    "version": 3
   },
   "file_extension": ".py",
   "mimetype": "text/x-python",
   "name": "python",
   "nbconvert_exporter": "python",
   "pygments_lexer": "ipython3",
   "version": "3.11.10"
  }
 },
 "nbformat": 4,
 "nbformat_minor": 4
}
